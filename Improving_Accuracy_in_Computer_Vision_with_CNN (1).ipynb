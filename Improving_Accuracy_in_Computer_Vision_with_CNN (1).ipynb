{
  "nbformat": 4,
  "nbformat_minor": 0,
  "metadata": {
    "colab": {
      "name": "Improving Accuracy in Computer Vision with CNN.ipynb",
      "provenance": [],
      "collapsed_sections": [
        "FKCDZvYZ7kNW"
      ]
    },
    "kernelspec": {
      "name": "python3",
      "display_name": "Python 3"
    },
    "language_info": {
      "name": "python"
    }
  },
  "cells": [
    {
      "cell_type": "markdown",
      "metadata": {
        "id": "fHWvJ3j17Sjl"
      },
      "source": [
        "# Improving Computer Vision Accuracy using Convolutions\n"
      ]
    },
    {
      "cell_type": "markdown",
      "metadata": {
        "id": "FKCDZvYZ7kNW"
      },
      "source": [
        "## Without Convolution Neural Network"
      ]
    },
    {
      "cell_type": "code",
      "metadata": {
        "colab": {
          "base_uri": "https://localhost:8080/"
        },
        "id": "BTgQL0Dy7YHM",
        "outputId": "ec8635cd-cd94-4d6c-8512-99a1a4a73bae"
      },
      "source": [
        "import tensorflow as tf\n",
        "mnist = tf.keras.datasets.fashion_mnist\n",
        "\n",
        "(training_images, training_labels), (test_images, test_labels) = mnist.load_data()"
      ],
      "execution_count": null,
      "outputs": [
        {
          "output_type": "stream",
          "text": [
            "Downloading data from https://storage.googleapis.com/tensorflow/tf-keras-datasets/train-labels-idx1-ubyte.gz\n",
            "32768/29515 [=================================] - 0s 0us/step\n",
            "Downloading data from https://storage.googleapis.com/tensorflow/tf-keras-datasets/train-images-idx3-ubyte.gz\n",
            "26427392/26421880 [==============================] - 0s 0us/step\n",
            "Downloading data from https://storage.googleapis.com/tensorflow/tf-keras-datasets/t10k-labels-idx1-ubyte.gz\n",
            "8192/5148 [===============================================] - 0s 0us/step\n",
            "Downloading data from https://storage.googleapis.com/tensorflow/tf-keras-datasets/t10k-images-idx3-ubyte.gz\n",
            "4423680/4422102 [==============================] - 0s 0us/step\n"
          ],
          "name": "stdout"
        }
      ]
    },
    {
      "cell_type": "code",
      "metadata": {
        "id": "dDheDDia8OH_"
      },
      "source": [
        "training_images = training_images/255\n",
        "test_images = test_images/255"
      ],
      "execution_count": null,
      "outputs": []
    },
    {
      "cell_type": "code",
      "metadata": {
        "id": "qtPNL4g18n_u"
      },
      "source": [
        "model = tf.keras.models.Sequential([\n",
        "                                    tf.keras.layers.Flatten(),\n",
        "                                    tf.keras.layers.Dense(512, activation=tf.nn.relu),\n",
        "                                    tf.keras.layers.Dense(10, activation=tf.nn.softmax)\n",
        "])"
      ],
      "execution_count": null,
      "outputs": []
    },
    {
      "cell_type": "code",
      "metadata": {
        "colab": {
          "base_uri": "https://localhost:8080/"
        },
        "id": "R3ut2mk-9kuE",
        "outputId": "15950140-341b-4d6d-a5bf-4b915e00cfed"
      },
      "source": [
        "model.compile(\n",
        "    optimizer='adam',\n",
        "    loss = 'sparse_categorical_crossentropy',\n",
        "    metrics = 'accuracy'\n",
        ")\n",
        "\n",
        "model.fit(training_images, training_labels, epochs=10)\n",
        "test_loss = model.evaluate(test_images, test_labels)"
      ],
      "execution_count": null,
      "outputs": [
        {
          "output_type": "stream",
          "text": [
            "Epoch 1/10\n",
            "1875/1875 [==============================] - 10s 5ms/step - loss: 0.3768 - accuracy: 0.8640\n",
            "Epoch 2/10\n",
            "1875/1875 [==============================] - 9s 5ms/step - loss: 0.3204 - accuracy: 0.8822\n",
            "Epoch 3/10\n",
            "1875/1875 [==============================] - 9s 5ms/step - loss: 0.3023 - accuracy: 0.8872\n",
            "Epoch 4/10\n",
            "1875/1875 [==============================] - 9s 5ms/step - loss: 0.2843 - accuracy: 0.8924\n",
            "Epoch 5/10\n",
            "1875/1875 [==============================] - 10s 5ms/step - loss: 0.2578 - accuracy: 0.9050\n",
            "Epoch 6/10\n",
            "1875/1875 [==============================] - 10s 5ms/step - loss: 0.2515 - accuracy: 0.9056\n",
            "Epoch 7/10\n",
            "1875/1875 [==============================] - 10s 5ms/step - loss: 0.2342 - accuracy: 0.9127\n",
            "Epoch 8/10\n",
            "1875/1875 [==============================] - 10s 5ms/step - loss: 0.2312 - accuracy: 0.9139\n",
            "Epoch 9/10\n",
            "1875/1875 [==============================] - 10s 5ms/step - loss: 0.2240 - accuracy: 0.9140\n",
            "Epoch 10/10\n",
            "1875/1875 [==============================] - 10s 5ms/step - loss: 0.2151 - accuracy: 0.9183\n",
            "313/313 [==============================] - 1s 3ms/step - loss: 0.3375 - accuracy: 0.8881\n"
          ],
          "name": "stdout"
        }
      ]
    },
    {
      "cell_type": "code",
      "metadata": {
        "colab": {
          "base_uri": "https://localhost:8080/"
        },
        "id": "CT65UQTH-acF",
        "outputId": "5211221d-2f05-4514-baf3-05489048ba46"
      },
      "source": [
        "test_loss"
      ],
      "execution_count": null,
      "outputs": [
        {
          "output_type": "execute_result",
          "data": {
            "text/plain": [
              "[0.3374565541744232, 0.8881000280380249]"
            ]
          },
          "metadata": {
            "tags": []
          },
          "execution_count": 7
        }
      ]
    },
    {
      "cell_type": "markdown",
      "metadata": {
        "id": "rMPlS5_7-6K5"
      },
      "source": [
        "We have an accuracy of **88.81%. and a loss of 33.74%** Not bad but not so good either. "
      ]
    },
    {
      "cell_type": "markdown",
      "metadata": {
        "id": "Lyv7sTTM_WSV"
      },
      "source": [
        "## With Convolution Neural Network"
      ]
    },
    {
      "cell_type": "code",
      "metadata": {
        "id": "WtPdOe7k-37S"
      },
      "source": [
        "import tensorflow as ft\n",
        "mnist = tf.keras.datasets.fashion_mnist\n",
        "(training_images, training_labels), (test_images, test_labels) = mnist.load_data()"
      ],
      "execution_count": null,
      "outputs": []
    },
    {
      "cell_type": "code",
      "metadata": {
        "id": "jgC_eATYAItE"
      },
      "source": [
        "training_images = training_images.reshape(60000, 28, 28, 1)\n",
        "training_images = training_images/255\n",
        "test_images = test_images.reshape(10000, 28, 28, 1)\n",
        "test_images = test_images/255"
      ],
      "execution_count": null,
      "outputs": []
    },
    {
      "cell_type": "code",
      "metadata": {
        "id": "aPSaQ1pOAhFo"
      },
      "source": [
        "model = tf.keras.models.Sequential([\n",
        "                                    tf.keras.layers.Conv2D(64, (3, 3), activation='relu', input_shape=(28, 28, 1)),\n",
        "                                    tf.keras.layers.MaxPooling2D(2, 2),\n",
        "                                    tf.keras.layers.Conv2D(64, (3, 3), activation='relu'),\n",
        "                                    tf.keras.layers.MaxPooling2D(2, 2),\n",
        "                                    tf.keras.layers.Flatten(),\n",
        "                                    tf.keras.layers.Dense(512, activation=tf.nn.relu),\n",
        "                                    tf.keras.layers.Dense(10, activation=tf.nn.softmax)\n",
        "])"
      ],
      "execution_count": null,
      "outputs": []
    },
    {
      "cell_type": "code",
      "metadata": {
        "colab": {
          "base_uri": "https://localhost:8080/"
        },
        "id": "GUbbsxcdCb49",
        "outputId": "9463af08-2aac-4cda-90f2-8c290f9bd171"
      },
      "source": [
        "model.compile(optimizer='adam', loss='sparse_categorical_crossentropy', metrics='accuracy')\n",
        "model.summary()\n",
        "model.fit(training_images, training_labels, epochs=10)\n",
        "my_new_accuracy = model.evaluate(test_images, test_labels)"
      ],
      "execution_count": null,
      "outputs": [
        {
          "output_type": "stream",
          "text": [
            "Model: \"sequential_6\"\n",
            "_________________________________________________________________\n",
            "Layer (type)                 Output Shape              Param #   \n",
            "=================================================================\n",
            "conv2d_10 (Conv2D)           (None, 26, 26, 64)        640       \n",
            "_________________________________________________________________\n",
            "max_pooling2d_10 (MaxPooling (None, 13, 13, 64)        0         \n",
            "_________________________________________________________________\n",
            "conv2d_11 (Conv2D)           (None, 11, 11, 64)        36928     \n",
            "_________________________________________________________________\n",
            "max_pooling2d_11 (MaxPooling (None, 5, 5, 64)          0         \n",
            "_________________________________________________________________\n",
            "flatten_6 (Flatten)          (None, 1600)              0         \n",
            "_________________________________________________________________\n",
            "dense_12 (Dense)             (None, 512)               819712    \n",
            "_________________________________________________________________\n",
            "dense_13 (Dense)             (None, 10)                5130      \n",
            "=================================================================\n",
            "Total params: 862,410\n",
            "Trainable params: 862,410\n",
            "Non-trainable params: 0\n",
            "_________________________________________________________________\n",
            "Epoch 1/10\n",
            "1875/1875 [==============================] - 90s 48ms/step - loss: 0.5690 - accuracy: 0.7926\n",
            "Epoch 2/10\n",
            "1875/1875 [==============================] - 89s 48ms/step - loss: 0.2862 - accuracy: 0.8945\n",
            "Epoch 3/10\n",
            "1875/1875 [==============================] - 90s 48ms/step - loss: 0.2353 - accuracy: 0.9108\n",
            "Epoch 4/10\n",
            "1875/1875 [==============================] - 89s 48ms/step - loss: 0.1963 - accuracy: 0.9263\n",
            "Epoch 5/10\n",
            "1875/1875 [==============================] - 89s 48ms/step - loss: 0.1692 - accuracy: 0.9360\n",
            "Epoch 6/10\n",
            "1875/1875 [==============================] - 89s 47ms/step - loss: 0.1388 - accuracy: 0.9471\n",
            "Epoch 7/10\n",
            "1875/1875 [==============================] - 89s 47ms/step - loss: 0.1146 - accuracy: 0.9569\n",
            "Epoch 8/10\n",
            "1875/1875 [==============================] - 89s 48ms/step - loss: 0.0971 - accuracy: 0.9629\n",
            "Epoch 9/10\n",
            "1875/1875 [==============================] - 89s 47ms/step - loss: 0.0769 - accuracy: 0.9703\n",
            "Epoch 10/10\n",
            "1875/1875 [==============================] - 89s 47ms/step - loss: 0.0671 - accuracy: 0.9753\n",
            "313/313 [==============================] - 4s 13ms/step - loss: 0.3605 - accuracy: 0.9142\n"
          ],
          "name": "stdout"
        }
      ]
    },
    {
      "cell_type": "code",
      "metadata": {
        "colab": {
          "base_uri": "https://localhost:8080/"
        },
        "id": "vqqcR980WURb",
        "outputId": "04ea66ae-1c4e-4bef-9081-f1466b63a825"
      },
      "source": [
        "my_new_accuracy"
      ],
      "execution_count": null,
      "outputs": [
        {
          "output_type": "execute_result",
          "data": {
            "text/plain": [
              "[0.36047619581222534, 0.9142000079154968]"
            ]
          },
          "metadata": {
            "tags": []
          },
          "execution_count": 47
        }
      ]
    },
    {
      "cell_type": "markdown",
      "metadata": {
        "id": "JZL2LFoTWiBz"
      },
      "source": [
        "With CNN our accuracy has improved to **91.42% and a loss of 36.06%**"
      ]
    }
  ]
}